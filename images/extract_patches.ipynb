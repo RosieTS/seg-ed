{
 "cells": [
  {
   "cell_type": "code",
   "execution_count": 1,
   "metadata": {},
   "outputs": [
    {
     "name": "stdout",
     "output_type": "stream",
     "text": [
      "['412_16.tif']\n",
      "['412_16.tif']\n",
      "['/mnt/c/Users/rosie/WSL/helpful_code/data-loader/WSIs/412_16.tif']\n",
      "['/mnt/c/Users/rosie/WSL/helpful_code/data-loader/masks/412_16.tif']\n",
      "((29824, 27840), (14912, 13920), (7456, 6960), (3728, 3480), (1864, 1740), (932, 870), (466, 435))\n",
      "0.6980392156862745\n",
      "[0, 448, 896, 1344, 1792, 2240, 2688, 3136, 3584, 4032, 4480, 4928, 5376, 5824, 6272, 6720, 7168, 7616, 8064, 8512, 8960, 9408, 9856, 10304, 10752, 11200, 11648, 12096, 12544, 12992, 13440, 13888, 14336, 14784, 15232, 15680, 16128, 16576, 17024, 17472, 17920, 18368, 18816, 19264, 19712, 20160, 20608, 21056, 21504, 21952, 22400, 22848, 23296, 23744, 24192, 24640, 25088, 25536, 25984, 26432, 26880, 27328, 27776, 28224, 28672, 29120, 29568]\n",
      "[0, 448, 896, 1344, 1792, 2240, 2688, 3136, 3584, 4032, 4480, 4928, 5376, 5824, 6272, 6720, 7168, 7616, 8064, 8512, 8960, 9408, 9856, 10304, 10752, 11200, 11648, 12096, 12544, 12992, 13440, 13888, 14336, 14784, 15232, 15680, 16128, 16576, 17024, 17472, 17920, 18368, 18816, 19264, 19712, 20160, 20608, 21056, 21504, 21952, 22400, 22848, 23296, 23744, 24192, 24640, 25088, 25536, 25984, 26432, 26880, 27328, 27776]\n",
      "Saved to: /mnt/c/Users/rosie/WSL/images\n"
     ]
    }
   ],
   "source": [
    "import extract_patches as patches\n",
    "import openslide\n",
    "\n",
    "WSI_dir=\"/mnt/c/Users/rosie/WSL/helpful_code/data-loader/WSIs\"\n",
    "mask_dir=\"/mnt/c/Users/rosie/WSL/helpful_code/data-loader/masks\"\n",
    "\n",
    "image_file_names, mask_file_names = patches.get_image_and_mask_names(WSI_dir, mask_dir)\n",
    "print(image_file_names)\n",
    "print(mask_file_names)\n",
    "\n",
    "for image_file_name in image_file_names:\n",
    "    image = openslide.OpenSlide(image_file_name)\n",
    "    #mask = openslide.OpenSlide(mask_file_name)\n",
    "\n",
    "    print(image.level_dimensions)\n",
    "    #print(mask.level_dimensions)\n",
    "\n",
    "    threshold =  patches.get_otsu_threshold(image)\n",
    "    print(threshold)\n",
    "\n",
    "    patch_size = (224, 224)\n",
    "    stride = (112, 112)\n",
    "    x_coords, y_coords = patches.get_patch_origin_coords(image, patch_size, stride)\n",
    "    print(x_coords)\n",
    "    print(y_coords)\n",
    "\n",
    "    for x in x_coords:\n",
    "        for y in y_coords:\n",
    "            if y == 16576 and x == 16576:\n",
    "                extracted_patch = patches.extract_patch(image, x, y, threshold, \n",
    "                image_file_name, patch_size)"
   ]
  },
  {
   "cell_type": "code",
   "execution_count": 28,
   "metadata": {},
   "outputs": [
    {
     "name": "stdout",
     "output_type": "stream",
     "text": [
      "[  0   0   0   0   0   0   0   0   0   0   0   0   0   0   0   0   0   0\n",
      "   0   0   0   0   0   0   0   0   0   0   0   0   0   0   0   0   0   0\n",
      "   0   0   0   0   0   0   0   0   0   0   0   0   0   0   0   0   0   0\n",
      "   0   0   0   0   0   0   0   0   0   0   0   0   0   0   0   0   0   0\n",
      "   0   0   0   0   0   0   0   0   0   0   0   0   0   0   0   0   0   0\n",
      "   0   0   0   0   0   0   0   0   0   0   0   0   0   0   0 255 255 255\n",
      " 255 255 255 255 255 255 255 255 255 255 255 255 255 255 255 255 255 255\n",
      " 255 255 255 255 255 255 255 255 255 255 255 255 255 255 255 255 255 255\n",
      " 255 255 255 255 255 255 255 255   0   0   0   0   0   0   0   0   0   0\n",
      "   0   0   0   0   0   0   0   0   0   0   0   0   0   0   0   0   0   0\n",
      "   0   0   0   0   0   0   0   0   0   0   0   0   0   0   0   0   0   0\n",
      "   0   0   0   0   0   0   0   0   0   0   0   0   0   0   0   0   0   0\n",
      "   0   0   0   0   0   0   0   0]\n",
      "[  0   0   0   0   0   0   0   0   0   0   0   0   0   0   0   0   0   0\n",
      "   0   0   0   0   0   0   0   0   0   0   0   0   0   0   0   0   0   0\n",
      "   0   0   0   0   0   0   0   0   0   0   0   0   0   0   0   0   0   0\n",
      "   0   0   0   0   0   0   0   0   0   0   0   0   0   0   0   0   0   0\n",
      "   0   0   0   0   0   0   0   0   0   0   0   0   0   0   0   0   0   0\n",
      "   0   0   0   0   0 255 255 255 255 255 255 255 255 255 255 255 255 255\n",
      " 255 255 255 255 255 255 255 255 255 255 255 255 255 255 255 255 255 255\n",
      " 255 255 255 255 255 255 255 255   0   0   0   0   0   0   0   0   0   0\n",
      "   0   0   0   0   0   0   0   0   0   0   0   0   0   0   0   0   0   0\n",
      "   0   0   0   0   0   0   0   0   0   0   0   0   0   0   0   0   0   0\n",
      "   0   0   0   0   0   0   0   0   0   0   0   0   0   0   0   0   0   0\n",
      "   0   0   0   0   0   0   0   0   0   0   0   0   0   0   0   0   0   0\n",
      "   0   0   0   0   0   0   0   0]\n"
     ]
    },
    {
     "data": {
      "image/png": "[encoded data removed]",
      "text/plain": [
       "<Figure size 432x288 with 1 Axes>"
      ]
     },
     "metadata": {
      "needs_background": "light"
     },
     "output_type": "display_data"
    }
   ],
   "source": [
    "import numpy as np\n",
    "import matplotlib.pyplot as plt\n",
    "from PIL import Image\n",
    "\n",
    "mask = openslide.OpenSlide(\"/mnt/c/Users/rosie/WSL/helpful_code/data-loader/masks/412_16_epithelium_mask.tif\")\n",
    "patch = mask.read_region((16576,16576), 2, (224, 224), ).convert('L')\n",
    "patch_array = np.asarray(patch).astype('uint8')*255\n",
    "patch_array.shape\n",
    "print(patch_array[100,:])\n",
    "print(patch_array[125,:])\n",
    "\n",
    "patch_PIL = Image.fromarray(patch_array)\n",
    "\n",
    "plt.imshow(patch_array, cmap=\"gray\")\n",
    "plt.show()\n",
    "\n",
    "patch_PIL.save(\"/mnt/c/Users/rosie/WSL/output_images/test.png\")\n"
   ]
  }
 ],
 "metadata": {
  "kernelspec": {
   "display_name": "Python 3.10.4 ('internship')",
   "language": "python",
   "name": "python3"
  },
  "language_info": {
   "codemirror_mode": {
    "name": "ipython",
    "version": 3
   },
   "file_extension": ".py",
   "mimetype": "text/x-python",
   "name": "python",
   "nbconvert_exporter": "python",
   "pygments_lexer": "ipython3",
   "version": "3.10.4"
  },
  "orig_nbformat": 4,
  "vscode": {
   "interpreter": {
    "hash": "c7fdb515c0ab8aaa857e9322e4ae18e77dd327436c03d8a767087a1dc61aa326"
   }
  }
 },
 "nbformat": 4,
 "nbformat_minor": 2
}
