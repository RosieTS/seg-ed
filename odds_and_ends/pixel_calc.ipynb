{
 "cells": [
  {
   "cell_type": "code",
   "execution_count": 8,
   "metadata": {},
   "outputs": [
    {
     "name": "stdout",
     "output_type": "stream",
     "text": [
      "14.0\n"
     ]
    }
   ],
   "source": [
    "def down(pix,num_layers):\n",
    "    return (pix - 4) / 2\n",
    "\n",
    "num_layers = 5\n",
    "\n",
    "start = 284\n",
    "end = start\n",
    "\n",
    "for i in range(0,num_layers-1):\n",
    "    end = down(end,num_layers)\n",
    "\n",
    "# If end is an integer then start number is good.\n",
    "print(end)\n"
   ]
  }
 ],
 "metadata": {
  "kernelspec": {
   "display_name": "Python 3.9.12 ('internship')",
   "language": "python",
   "name": "python3"
  },
  "language_info": {
   "codemirror_mode": {
    "name": "ipython",
    "version": 3
   },
   "file_extension": ".py",
   "mimetype": "text/x-python",
   "name": "python",
   "nbconvert_exporter": "python",
   "pygments_lexer": "ipython3",
   "version": "3.9.12"
  },
  "orig_nbformat": 4,
  "vscode": {
   "interpreter": {
    "hash": "555c3cc408bb6174d6f4ac59261404fbf4eabb1c64fd3e88880c2685b7aa3258"
   }
  }
 },
 "nbformat": 4,
 "nbformat_minor": 2
}
